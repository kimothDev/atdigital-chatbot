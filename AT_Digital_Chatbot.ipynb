{
  "nbformat": 4,
  "nbformat_minor": 0,
  "metadata": {
    "colab": {
      "provenance": []
    },
    "kernelspec": {
      "name": "python3",
      "display_name": "Python 3"
    },
    "language_info": {
      "name": "python"
    }
  },
  "cells": [
    {
      "cell_type": "code",
      "source": [
        "!pip install sentence-transformers numpy"
      ],
      "metadata": {
        "colab": {
          "base_uri": "https://localhost:8080/"
        },
        "collapsed": true,
        "id": "4NUqx8dzERq4",
        "outputId": "b36395b8-9187-479c-f407-ac5a29f561fe"
      },
      "execution_count": 1,
      "outputs": [
        {
          "output_type": "stream",
          "name": "stdout",
          "text": [
            "Requirement already satisfied: sentence-transformers in /usr/local/lib/python3.12/dist-packages (5.1.0)\n",
            "Requirement already satisfied: numpy in /usr/local/lib/python3.12/dist-packages (2.0.2)\n",
            "Requirement already satisfied: transformers<5.0.0,>=4.41.0 in /usr/local/lib/python3.12/dist-packages (from sentence-transformers) (4.56.1)\n",
            "Requirement already satisfied: tqdm in /usr/local/lib/python3.12/dist-packages (from sentence-transformers) (4.67.1)\n",
            "Requirement already satisfied: torch>=1.11.0 in /usr/local/lib/python3.12/dist-packages (from sentence-transformers) (2.8.0+cu126)\n",
            "Requirement already satisfied: scikit-learn in /usr/local/lib/python3.12/dist-packages (from sentence-transformers) (1.6.1)\n",
            "Requirement already satisfied: scipy in /usr/local/lib/python3.12/dist-packages (from sentence-transformers) (1.16.1)\n",
            "Requirement already satisfied: huggingface-hub>=0.20.0 in /usr/local/lib/python3.12/dist-packages (from sentence-transformers) (0.34.4)\n",
            "Requirement already satisfied: Pillow in /usr/local/lib/python3.12/dist-packages (from sentence-transformers) (11.3.0)\n",
            "Requirement already satisfied: typing_extensions>=4.5.0 in /usr/local/lib/python3.12/dist-packages (from sentence-transformers) (4.15.0)\n",
            "Requirement already satisfied: filelock in /usr/local/lib/python3.12/dist-packages (from huggingface-hub>=0.20.0->sentence-transformers) (3.19.1)\n",
            "Requirement already satisfied: fsspec>=2023.5.0 in /usr/local/lib/python3.12/dist-packages (from huggingface-hub>=0.20.0->sentence-transformers) (2025.3.0)\n",
            "Requirement already satisfied: packaging>=20.9 in /usr/local/lib/python3.12/dist-packages (from huggingface-hub>=0.20.0->sentence-transformers) (25.0)\n",
            "Requirement already satisfied: pyyaml>=5.1 in /usr/local/lib/python3.12/dist-packages (from huggingface-hub>=0.20.0->sentence-transformers) (6.0.2)\n",
            "Requirement already satisfied: requests in /usr/local/lib/python3.12/dist-packages (from huggingface-hub>=0.20.0->sentence-transformers) (2.32.4)\n",
            "Requirement already satisfied: hf-xet<2.0.0,>=1.1.3 in /usr/local/lib/python3.12/dist-packages (from huggingface-hub>=0.20.0->sentence-transformers) (1.1.9)\n",
            "Requirement already satisfied: setuptools in /usr/local/lib/python3.12/dist-packages (from torch>=1.11.0->sentence-transformers) (75.2.0)\n",
            "Requirement already satisfied: sympy>=1.13.3 in /usr/local/lib/python3.12/dist-packages (from torch>=1.11.0->sentence-transformers) (1.13.3)\n",
            "Requirement already satisfied: networkx in /usr/local/lib/python3.12/dist-packages (from torch>=1.11.0->sentence-transformers) (3.5)\n",
            "Requirement already satisfied: jinja2 in /usr/local/lib/python3.12/dist-packages (from torch>=1.11.0->sentence-transformers) (3.1.6)\n",
            "Requirement already satisfied: nvidia-cuda-nvrtc-cu12==12.6.77 in /usr/local/lib/python3.12/dist-packages (from torch>=1.11.0->sentence-transformers) (12.6.77)\n",
            "Requirement already satisfied: nvidia-cuda-runtime-cu12==12.6.77 in /usr/local/lib/python3.12/dist-packages (from torch>=1.11.0->sentence-transformers) (12.6.77)\n",
            "Requirement already satisfied: nvidia-cuda-cupti-cu12==12.6.80 in /usr/local/lib/python3.12/dist-packages (from torch>=1.11.0->sentence-transformers) (12.6.80)\n",
            "Requirement already satisfied: nvidia-cudnn-cu12==9.10.2.21 in /usr/local/lib/python3.12/dist-packages (from torch>=1.11.0->sentence-transformers) (9.10.2.21)\n",
            "Requirement already satisfied: nvidia-cublas-cu12==12.6.4.1 in /usr/local/lib/python3.12/dist-packages (from torch>=1.11.0->sentence-transformers) (12.6.4.1)\n",
            "Requirement already satisfied: nvidia-cufft-cu12==11.3.0.4 in /usr/local/lib/python3.12/dist-packages (from torch>=1.11.0->sentence-transformers) (11.3.0.4)\n",
            "Requirement already satisfied: nvidia-curand-cu12==10.3.7.77 in /usr/local/lib/python3.12/dist-packages (from torch>=1.11.0->sentence-transformers) (10.3.7.77)\n",
            "Requirement already satisfied: nvidia-cusolver-cu12==11.7.1.2 in /usr/local/lib/python3.12/dist-packages (from torch>=1.11.0->sentence-transformers) (11.7.1.2)\n",
            "Requirement already satisfied: nvidia-cusparse-cu12==12.5.4.2 in /usr/local/lib/python3.12/dist-packages (from torch>=1.11.0->sentence-transformers) (12.5.4.2)\n",
            "Requirement already satisfied: nvidia-cusparselt-cu12==0.7.1 in /usr/local/lib/python3.12/dist-packages (from torch>=1.11.0->sentence-transformers) (0.7.1)\n",
            "Requirement already satisfied: nvidia-nccl-cu12==2.27.3 in /usr/local/lib/python3.12/dist-packages (from torch>=1.11.0->sentence-transformers) (2.27.3)\n",
            "Requirement already satisfied: nvidia-nvtx-cu12==12.6.77 in /usr/local/lib/python3.12/dist-packages (from torch>=1.11.0->sentence-transformers) (12.6.77)\n",
            "Requirement already satisfied: nvidia-nvjitlink-cu12==12.6.85 in /usr/local/lib/python3.12/dist-packages (from torch>=1.11.0->sentence-transformers) (12.6.85)\n",
            "Requirement already satisfied: nvidia-cufile-cu12==1.11.1.6 in /usr/local/lib/python3.12/dist-packages (from torch>=1.11.0->sentence-transformers) (1.11.1.6)\n",
            "Requirement already satisfied: triton==3.4.0 in /usr/local/lib/python3.12/dist-packages (from torch>=1.11.0->sentence-transformers) (3.4.0)\n",
            "Requirement already satisfied: regex!=2019.12.17 in /usr/local/lib/python3.12/dist-packages (from transformers<5.0.0,>=4.41.0->sentence-transformers) (2024.11.6)\n",
            "Requirement already satisfied: tokenizers<=0.23.0,>=0.22.0 in /usr/local/lib/python3.12/dist-packages (from transformers<5.0.0,>=4.41.0->sentence-transformers) (0.22.0)\n",
            "Requirement already satisfied: safetensors>=0.4.3 in /usr/local/lib/python3.12/dist-packages (from transformers<5.0.0,>=4.41.0->sentence-transformers) (0.6.2)\n",
            "Requirement already satisfied: joblib>=1.2.0 in /usr/local/lib/python3.12/dist-packages (from scikit-learn->sentence-transformers) (1.5.2)\n",
            "Requirement already satisfied: threadpoolctl>=3.1.0 in /usr/local/lib/python3.12/dist-packages (from scikit-learn->sentence-transformers) (3.6.0)\n",
            "Requirement already satisfied: mpmath<1.4,>=1.1.0 in /usr/local/lib/python3.12/dist-packages (from sympy>=1.13.3->torch>=1.11.0->sentence-transformers) (1.3.0)\n",
            "Requirement already satisfied: MarkupSafe>=2.0 in /usr/local/lib/python3.12/dist-packages (from jinja2->torch>=1.11.0->sentence-transformers) (3.0.2)\n",
            "Requirement already satisfied: charset_normalizer<4,>=2 in /usr/local/lib/python3.12/dist-packages (from requests->huggingface-hub>=0.20.0->sentence-transformers) (3.4.3)\n",
            "Requirement already satisfied: idna<4,>=2.5 in /usr/local/lib/python3.12/dist-packages (from requests->huggingface-hub>=0.20.0->sentence-transformers) (3.10)\n",
            "Requirement already satisfied: urllib3<3,>=1.21.1 in /usr/local/lib/python3.12/dist-packages (from requests->huggingface-hub>=0.20.0->sentence-transformers) (2.5.0)\n",
            "Requirement already satisfied: certifi>=2017.4.17 in /usr/local/lib/python3.12/dist-packages (from requests->huggingface-hub>=0.20.0->sentence-transformers) (2025.8.3)\n"
          ]
        }
      ]
    },
    {
      "cell_type": "code",
      "execution_count": 2,
      "metadata": {
        "id": "rY3Oo8mO_vLW"
      },
      "outputs": [],
      "source": [
        "data = [\n",
        "{\n",
        "\"page\": \"Home\",\n",
        "\"url\": \"https://atdigital.io/\",\n",
        "\"text\": \"AT Digital provides web development, AI solutions, and digital marketing services to help businesses grow online.\"\n",
        "},\n",
        "{\n",
        "\"page\": \"About Us\",\n",
        "\"url\": \"https://atdigital.io/about\",\n",
        "\"text\": \"We are a team of developers, designers, and AI specialists committed to delivering innovative digital solutions.\"\n",
        "},\n",
        "{\n",
        "\"page\": \"Services - AI/ML\",\n",
        "\"url\": \"https://atdigital.io/services/ai-ml\",\n",
        "\"text\": \"Our AI/ML services include custom models for automation, predictive analytics, and chatbot integration.\"\n",
        "},\n",
        "{\n",
        "\"page\": \"Services - Web Development\",\n",
        "\"url\": \"https://atdigital.io/services/web-development\",\n",
        "\"text\": \"We build responsive websites using React, Next.js, and headless CMS solutions like Prismic.\"\n",
        "},\n",
        "{\n",
        "\"page\": \"Services - Digital Marketing\",\n",
        "\"url\": \"https://atdigital.io/services/digital-marketing\",\n",
        "\"text\": \"Our digital marketing services cover SEO, social media campaigns, content creation, and performance analytics.\"\n",
        "},\n",
        "{\n",
        "\"page\": \"Blog - SEO Tips\",\n",
        "\"url\": \"https://atdigital.io/blog/seo-tips\",\n",
        "\"text\": \"Improving website SEO involves optimizing images, metadata, performance, and content for better ranking.\"\n",
        "},\n",
        "{\n",
        "\"page\": \"Contact\",\n",
        "\"url\": \"https://atdigital.io/contact\",\n",
        "\"text\": \"You can reach us via email at contact@atdigital.io or through our contact form on the website.\"\n",
        "}\n",
        "]"
      ]
    },
    {
      "cell_type": "code",
      "source": [
        "#document list for embedding\n",
        "documents = [f\"{item['page']} - {item['text']}\".strip() for item in data]"
      ],
      "metadata": {
        "id": "vMxDjIMT_6u1"
      },
      "execution_count": 3,
      "outputs": []
    },
    {
      "cell_type": "code",
      "source": [
        "from sentence_transformers import SentenceTransformer\n",
        "\n",
        "model = SentenceTransformer('sentence-transformers/all-MiniLM-L6-v2')\n",
        "\n",
        "#generate embeddings\n",
        "embeddings = model.encode(documents)"
      ],
      "metadata": {
        "colab": {
          "base_uri": "https://localhost:8080/"
        },
        "id": "ISNxXeBhAK8K",
        "outputId": "74ed2585-76b4-4d56-857c-228cda0e7939"
      },
      "execution_count": 4,
      "outputs": [
        {
          "output_type": "stream",
          "name": "stderr",
          "text": [
            "/usr/local/lib/python3.12/dist-packages/huggingface_hub/utils/_auth.py:94: UserWarning: \n",
            "The secret `HF_TOKEN` does not exist in your Colab secrets.\n",
            "To authenticate with the Hugging Face Hub, create a token in your settings tab (https://huggingface.co/settings/tokens), set it as secret in your Google Colab and restart your session.\n",
            "You will be able to reuse this secret in all of your notebooks.\n",
            "Please note that authentication is recommended but still optional to access public models or datasets.\n",
            "  warnings.warn(\n"
          ]
        }
      ]
    },
    {
      "cell_type": "code",
      "source": [
        "#similarity search functions\n",
        "import numpy as np\n",
        "\n",
        "def cosine_similarity(a, b):\n",
        "    return np.dot(a, b) / (np.linalg.norm(a) * np.linalg.norm(b))\n",
        "\n",
        "def find_best_match(query_emb, embedding):\n",
        "    sims = [cosine_similarity(query_emb, doc_emb) for doc_emb in embedding]\n",
        "    idx = np.argmax(sims)\n",
        "    return idx, sims[idx]"
      ],
      "metadata": {
        "id": "58GrZojBAT_7"
      },
      "execution_count": 5,
      "outputs": []
    },
    {
      "cell_type": "code",
      "source": [
        "#CLI loop\n",
        "while True:\n",
        "    query = input(\"Ask a question (or 'exit'): \")\n",
        "    if query.lower() == \"exit\":\n",
        "        break\n",
        "    # Encode the query\n",
        "    q_emb = model.encode([query], convert_to_numpy=True)[0]\n",
        "    idx, score = find_best_match(q_emb, embeddings)\n",
        "    print(f\"Answer: {data[idx]['text']}\")\n",
        "    print(f\"Source: {data[idx]['page']} ({data[idx]['url']})\\n\")\n"
      ],
      "metadata": {
        "colab": {
          "base_uri": "https://localhost:8080/"
        },
        "id": "-nHVPe01A0O7",
        "outputId": "63b02f3e-b4de-4cd3-c4d0-7ec59becf146"
      },
      "execution_count": 6,
      "outputs": [
        {
          "name": "stdout",
          "output_type": "stream",
          "text": [
            "Ask a question (or 'exit'): What services does AT Digital offer?\n",
            "Answer: AT Digital provides web development, AI solutions, and digital marketing services to help businesses grow online.\n",
            "Source: Home (https://atdigital.io/)\n",
            "\n",
            "Ask a question (or 'exit'): Tell me about your AI/ML capabilities\n",
            "Answer: Our AI/ML services include custom models for automation, predictive analytics, and chatbot integration.\n",
            "Source: Services - AI/ML (https://atdigital.io/services/ai-ml)\n",
            "\n",
            "Ask a question (or 'exit'): Do you build websites?\n",
            "Answer: We build responsive websites using React, Next.js, and headless CMS solutions like Prismic.\n",
            "Source: Services - Web Development (https://atdigital.io/services/web-development)\n",
            "\n",
            "Ask a question (or 'exit'): What digital marketing services do you provide?\n",
            "Answer: Our digital marketing services cover SEO, social media campaigns, content creation, and performance analytics.\n",
            "Source: Services - Digital Marketing (https://atdigital.io/services/digital-marketing)\n",
            "\n",
            "Ask a question (or 'exit'): Tell me about your team\n",
            "Answer: We are a team of developers, designers, and AI specialists committed to delivering innovative digital solutions.\n",
            "Source: About Us (https://atdigital.io/about)\n",
            "\n",
            "Ask a question (or 'exit'): What technologies do you use for web development?\n",
            "Answer: We build responsive websites using React, Next.js, and headless CMS solutions like Prismic.\n",
            "Source: Services - Web Development (https://atdigital.io/services/web-development)\n",
            "\n",
            "Ask a question (or 'exit'): Can you integrate chatbots?\n",
            "Answer: Our AI/ML services include custom models for automation, predictive analytics, and chatbot integration.\n",
            "Source: Services - AI/ML (https://atdigital.io/services/ai-ml)\n",
            "\n",
            "Ask a question (or 'exit'): How can I contact AT Digital?\n",
            "Answer: You can reach us via email at contact@atdigital.io or through our contact form on the website.\n",
            "Source: Contact (https://atdigital.io/contact)\n",
            "\n",
            "Ask a question (or 'exit'): What's your email address?\n",
            "Answer: You can reach us via email at contact@atdigital.io or through our contact form on the website.\n",
            "Source: Contact (https://atdigital.io/contact)\n",
            "\n",
            "Ask a question (or 'exit'): How can you help my business?\n",
            "Answer: Our digital marketing services cover SEO, social media campaigns, content creation, and performance analytics.\n",
            "Source: Services - Digital Marketing (https://atdigital.io/services/digital-marketing)\n",
            "\n",
            "Ask a question (or 'exit'): Do you work with React and Next.js?\n",
            "Answer: We build responsive websites using React, Next.js, and headless CMS solutions like Prismic.\n",
            "Source: Services - Web Development (https://atdigital.io/services/web-development)\n",
            "\n",
            "Ask a question (or 'exit'): exit\n"
          ]
        }
      ]
    },
    {
      "cell_type": "code",
      "source": [],
      "metadata": {
        "id": "hMaZeGR7Exnu"
      },
      "execution_count": 6,
      "outputs": []
    }
  ]
}